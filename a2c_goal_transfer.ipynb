{
 "cells": [
  {
   "cell_type": "markdown",
   "metadata": {},
   "source": [
    "## _Training_\n",
    "### Preparing the main model training it on the default environment with the goal in the bottom right"
   ]
  },
  {
   "cell_type": "code",
   "execution_count": null,
   "metadata": {},
   "outputs": [],
   "source": [
    "%reload_ext autoreload\n",
    "from env.frozen_lake import FrozenLakeEnv\n",
    "from stable_baselines3 import A2C\n",
    "from constants import RENDER_MODE, BOTTOM_RIGHT, FPS\n",
    "import os\n",
    "\n",
    "os.makedirs(\"./models\", exist_ok=True)\n",
    "\n",
    "print(\"training bottom right env...\")\n",
    "bottom_right_env = FrozenLakeEnv(RENDER_MODE, desc=BOTTOM_RIGHT, fps=FPS)\n",
    "model = A2C(policy=\"MlpPolicy\", env=bottom_right_env)\n",
    "model = model.learn(1e6, progress_bar=True)\n",
    "model.save(\"./models/a2c_bottom_right\")\n",
    "print(\"saved bottom right model.\")"
   ]
  },
  {
   "cell_type": "code",
   "execution_count": null,
   "metadata": {},
   "outputs": [],
   "source": [
    "%reload_ext autoreload\n",
    "from env.frozen_lake import FrozenLakeEnv\n",
    "from stable_baselines3 import A2C\n",
    "from stable_baselines3.common.vec_env import DummyVecEnv\n",
    "import matplotlib.pyplot as plt\n",
    "from constants import RENDER_MODE, FPS, TOP_RIGHT, BOTTOM_LEFT, BOTTOM_RIGHT, EVAL_EPS\n",
    "import os\n",
    "\n",
    "def eval_env(\n",
    "    env: DummyVecEnv,\n",
    "    model: A2C,\n",
    "    eps: int,\n",
    "    graph_label: str,\n",
    "    color: str\n",
    ") -> None:\n",
    "    rewards = []\n",
    "    total_rewards = 0\n",
    "    for i in range(eps):\n",
    "        steps = 0\n",
    "        obs = env.reset()\n",
    "        while steps < 100:\n",
    "            action, _states = model.predict(obs)\n",
    "            obs, _rewards, dones, infos = env.step(action)\n",
    "            steps += 1\n",
    "            if dones[0] or steps == 100:\n",
    "                total_rewards += _rewards[0]\n",
    "                rewards.append(total_rewards)\n",
    "                print(f'eval_ep: {i+1}/{eps} | current_reward: {_rewards[0]} | total_rewards: {total_rewards}', end='\\r')\n",
    "                obs = env.reset()\n",
    "                break\n",
    "    print(f'\\nfinished evaluating {eps} eps. total_rewards: {total_rewards}')\n",
    "    plt.figure(figsize=(15,5))\n",
    "    plt.xlim(0, eps)\n",
    "    plt.ylim(0, eps)\n",
    "    plt.plot(rewards, linestyle=\"-\", color=color)\n",
    "    plt.title(graph_label, fontname='sans-serif', fontsize=14, fontstyle='italic')\n",
    "    plt.xlabel(\"Episode\", fontname='sans-serif', fontweight=\"semibold\")\n",
    "    plt.ylabel(\"Reward\", fontname='sans-serif', fontweight=\"semibold\")\n",
    "    plt.savefig(f'./results/a2c_{graph_label.replace(\" \", \"_\")}_eval_rewards.png')\n",
    "\n",
    "os.makedirs(\"./results\", exist_ok=True)\n",
    "plt.style.use('_mpl-gallery')\n",
    "\n",
    "top_right_env = FrozenLakeEnv(RENDER_MODE, desc=TOP_RIGHT, fps=FPS).dummy_vec_env()\n",
    "top_right_model = A2C.load(\"./models/a2c_bottom_right.zip\", env=top_right_env)\n",
    "print(\"loaded top right model.\")\n",
    "bottom_right_env = FrozenLakeEnv(RENDER_MODE, desc=BOTTOM_RIGHT, fps=FPS).dummy_vec_env()\n",
    "bottom_right_model = A2C.load(\"./models/a2c_bottom_right.zip\", env=bottom_right_env)\n",
    "print(\"loaded bottom right model.\")\n",
    "bottom_left_env = FrozenLakeEnv(RENDER_MODE, desc=BOTTOM_LEFT, fps=FPS).dummy_vec_env()\n",
    "bottom_left_model = A2C.load(\"./models/a2c_bottom_right.zip\", env=bottom_left_env)\n",
    "print(\"loaded bottom right model.\")\n",
    "\n",
    "print(\"evaluating top right env...\")\n",
    "eval_env(env=top_right_env, model=top_right_model, eps=EVAL_EPS, graph_label=\"Top Right\", color=\"red\")\n",
    "\n",
    "print(\"evaluating bottom left env...\")\n",
    "eval_env(env=bottom_left_env, model=bottom_left_model, eps=EVAL_EPS, graph_label=\"Bottom Left\", color=\"red\")\n",
    "\n",
    "print(\"evaluating bottom right env...\")\n",
    "eval_env(env=bottom_right_env, model=bottom_right_model, eps=EVAL_EPS, graph_label=\"Bottom Right\", color=\"red\")"
   ]
  },
  {
   "cell_type": "markdown",
   "metadata": {},
   "source": [
    "## _Training_\n",
    "### Preparing the main model training it on the default environment with the goal in the bottom right"
   ]
  }
 ],
 "metadata": {
  "kernelspec": {
   "display_name": "base",
   "language": "python",
   "name": "python3"
  },
  "language_info": {
   "codemirror_mode": {
    "name": "ipython",
    "version": 3
   },
   "file_extension": ".py",
   "mimetype": "text/x-python",
   "name": "python",
   "nbconvert_exporter": "python",
   "pygments_lexer": "ipython3",
   "version": "3.10.8"
  },
  "orig_nbformat": 4
 },
 "nbformat": 4,
 "nbformat_minor": 2
}
